{
 "cells": [
  {
   "cell_type": "code",
   "execution_count": 172,
   "metadata": {
    "_cell_guid": "b1076dfc-b9ad-4769-8c92-a6c4dae69d19",
    "_uuid": "8f2839f25d086af736a60e9eeb907d3b93b6e0e5"
   },
   "outputs": [],
   "source": [
    "# This Python 3 environment comes with many helpful analytics libraries installed\n",
    "# It is defined by the kaggle/python Docker image: https://github.com/kaggle/docker-python\n",
    "# For example, here's several helpful packages to load\n",
    "\n",
    "import numpy as np # linear algebra\n",
    "import pandas as pd # data processing, CSV file I/O (e.g. pd.read_csv)\n",
    "import matplotlib.pyplot as plt\n",
    "from IPython.display import clear_output\n",
    "\n",
    "# Input data files are available in the read-only \"../input/\" directory\n",
    "# For example, running this (by clicking run or pressing Shift+Enter) will list all files under the input directory\n",
    "\n",
    "import os\n",
    "filePaths = {}\n",
    "for dirname, _, filenames in os.walk('/kaggle/input'):\n",
    "    for filename in filenames:\n",
    "        filePaths[filename] = os.path.join(dirname, filename)\n",
    "\n",
    "# You can write up to 20GB to the current directory (/kaggle/working/) that gets preserved as output when you create a version using \"Save & Run All\" \n",
    "# You can also write temporary files to /kaggle/temp/, but they won't be saved outside of the current session"
   ]
  },
  {
   "cell_type": "code",
   "execution_count": 174,
   "metadata": {},
   "outputs": [
    {
     "data": {
      "text/html": [
       "<div>\n",
       "<style scoped>\n",
       "    .dataframe tbody tr th:only-of-type {\n",
       "        vertical-align: middle;\n",
       "    }\n",
       "\n",
       "    .dataframe tbody tr th {\n",
       "        vertical-align: top;\n",
       "    }\n",
       "\n",
       "    .dataframe thead th {\n",
       "        text-align: right;\n",
       "    }\n",
       "</style>\n",
       "<table border=\"1\" class=\"dataframe\">\n",
       "  <thead>\n",
       "    <tr style=\"text-align: right;\">\n",
       "      <th></th>\n",
       "      <th>x</th>\n",
       "      <th>y</th>\n",
       "    </tr>\n",
       "  </thead>\n",
       "  <tbody>\n",
       "    <tr>\n",
       "      <th>0</th>\n",
       "      <td>24.0</td>\n",
       "      <td>21.549452</td>\n",
       "    </tr>\n",
       "    <tr>\n",
       "      <th>1</th>\n",
       "      <td>50.0</td>\n",
       "      <td>47.464463</td>\n",
       "    </tr>\n",
       "    <tr>\n",
       "      <th>2</th>\n",
       "      <td>15.0</td>\n",
       "      <td>17.218656</td>\n",
       "    </tr>\n",
       "    <tr>\n",
       "      <th>3</th>\n",
       "      <td>38.0</td>\n",
       "      <td>36.586398</td>\n",
       "    </tr>\n",
       "    <tr>\n",
       "      <th>4</th>\n",
       "      <td>87.0</td>\n",
       "      <td>87.288984</td>\n",
       "    </tr>\n",
       "    <tr>\n",
       "      <th>...</th>\n",
       "      <td>...</td>\n",
       "      <td>...</td>\n",
       "    </tr>\n",
       "    <tr>\n",
       "      <th>694</th>\n",
       "      <td>58.0</td>\n",
       "      <td>58.595006</td>\n",
       "    </tr>\n",
       "    <tr>\n",
       "      <th>695</th>\n",
       "      <td>93.0</td>\n",
       "      <td>94.625094</td>\n",
       "    </tr>\n",
       "    <tr>\n",
       "      <th>696</th>\n",
       "      <td>82.0</td>\n",
       "      <td>88.603770</td>\n",
       "    </tr>\n",
       "    <tr>\n",
       "      <th>697</th>\n",
       "      <td>66.0</td>\n",
       "      <td>63.648685</td>\n",
       "    </tr>\n",
       "    <tr>\n",
       "      <th>698</th>\n",
       "      <td>97.0</td>\n",
       "      <td>94.975266</td>\n",
       "    </tr>\n",
       "  </tbody>\n",
       "</table>\n",
       "<p>699 rows × 2 columns</p>\n",
       "</div>"
      ],
      "text/plain": [
       "        x          y\n",
       "0    24.0  21.549452\n",
       "1    50.0  47.464463\n",
       "2    15.0  17.218656\n",
       "3    38.0  36.586398\n",
       "4    87.0  87.288984\n",
       "..    ...        ...\n",
       "694  58.0  58.595006\n",
       "695  93.0  94.625094\n",
       "696  82.0  88.603770\n",
       "697  66.0  63.648685\n",
       "698  97.0  94.975266\n",
       "\n",
       "[699 rows x 2 columns]"
      ]
     },
     "metadata": {},
     "output_type": "display_data"
    }
   ],
   "source": [
    "training_dataset = pd.read_csv('train.csv')\n",
    "test_dataset = pd.read_csv('test.csv')\n",
    "training_dataset.dropna(inplace = True)\n",
    "training_dataset.reset_index(drop=True, inplace=True)\n",
    "display(training_dataset)"
   ]
  },
  {
   "cell_type": "code",
   "execution_count": 176,
   "metadata": {},
   "outputs": [],
   "source": [
    "class linear_regression_gradient_descent:\n",
    "    weights = None\n",
    "    n_iterations = None\n",
    "    learning_rate = None\n",
    "    input_features = None\n",
    "    target_features = None\n",
    "    n_instances = None\n",
    "    n_input_features = None\n",
    "    def __init__(self, input_features, target_features, weights, n_iterations, learning_rate):\n",
    "        self.weights = weights\n",
    "        self.n_iterations = n_iterations\n",
    "        self.learning_rate = learning_rate\n",
    "        self.input_features = input_features\n",
    "        self.target_features = target_features\n",
    "        self.n_input_features = input_features.shape[1]\n",
    "        self.n_instances = input_features.shape[0]\n",
    "    def update_weight(self, index, gradient):\n",
    "        self.weights.iloc[index, 0] -= self.learning_rate*gradient\n",
    "    def calculate_cost(self):\n",
    "        hypothesis = self.input_features.apply(self.calculate_hypothesis, axis = 1)\n",
    "        target_features = self.target_features.iloc[:, 0]\n",
    "        h_y_term = (hypothesis - target_features)**2\n",
    "        return (1/(2*self.n_instances))*(h_y_term.sum())\n",
    "    def calculate_hypothesis(self, instance):\n",
    "        instance = pd.DataFrame(instance).T\n",
    "        res = np.dot(instance.values, self.weights.values)\n",
    "        return res.item()\n",
    "    def calculate_gradient(self,feature_index):\n",
    "        hypothesis = self.input_features.apply(self.calculate_hypothesis, axis = 1)\n",
    "        xj = pd.DataFrame(self.input_features.iloc[:, feature_index])\n",
    "        h_y_term = pd.DataFrame(hypothesis - self.target_features.iloc[:, feature_index-1]).T\n",
    "        sum_term = np.dot(h_y_term.values, xj.values)\n",
    "        sum_term = sum_term.item()\n",
    "        return (1/self.n_instances)*sum_term\n",
    "    def train(self):\n",
    "        costs = []\n",
    "        for i in range(self.n_iterations):\n",
    "            clear_output(wait=True)\n",
    "            print('Calculating gradients for iteration ', i)\n",
    "            for j in range(self.n_input_features):\n",
    "                gradient = self.calculate_gradient(j)\n",
    "                self.update_weight(j, gradient)\n",
    "            cost = self.calculate_cost()\n",
    "            costs.append(cost)\n",
    "            print('Cost after', i, ' iterations = ', cost)\n",
    "            print('Weights after', i, ' iterations = ', self.weights)\n",
    "        plt.plot(range(len(costs)), costs)\n",
    "        print(self.weights)"
   ]
  },
  {
   "cell_type": "code",
   "execution_count": 178,
   "metadata": {},
   "outputs": [
    {
     "name": "stderr",
     "output_type": "stream",
     "text": [
      "C:\\Users\\suman\\AppData\\Local\\Temp\\ipykernel_25768\\416674095.py:8: SettingWithCopyWarning: \n",
      "A value is trying to be set on a copy of a slice from a DataFrame\n",
      "\n",
      "See the caveats in the documentation: https://pandas.pydata.org/pandas-docs/stable/user_guide/indexing.html#returning-a-view-versus-a-copy\n",
      "  input_features.dropna(inplace = True)\n"
     ]
    }
   ],
   "source": [
    "from sklearn.preprocessing import StandardScaler\n",
    "weights = pd.DataFrame([100,100])\n",
    "n_iterations = 10000\n",
    "learning_rate = 0.001\n",
    "input_features = training_dataset.iloc[:, :-1]\n",
    "n_input_features = input_features.shape[0]\n",
    "target_features = training_dataset.iloc[:, -1:]\n",
    "input_features.dropna(inplace = True)\n",
    "input_features.columns = range(input_features.shape[1])\n",
    "scaler = StandardScaler()\n",
    "input_features = pd.DataFrame(scaler.fit_transform(input_features))\n",
    "target_features = pd.DataFrame(scaler.fit_transform(target_features))\n",
    "input_features = pd.concat([pd.Series([1] * (n_input_features)), input_features], axis = 1)"
   ]
  },
  {
   "cell_type": "code",
   "execution_count": 180,
   "metadata": {},
   "outputs": [
    {
     "name": "stdout",
     "output_type": "stream",
     "text": [
      "Calculating gradients for iteration  9999\n",
      "Cost after 9999  iterations =  0.004669438259254222\n",
      "Weights after 9999  iterations =            0\n",
      "0  0.004517\n",
      "1  0.999812\n",
      "          0\n",
      "0  0.004517\n",
      "1  0.999812\n"
     ]
    },
    {
     "data": {
      "image/png": "[encoded data removed]",
      "text/plain": [
       "<Figure size 640x480 with 1 Axes>"
      ]
     },
     "metadata": {},
     "output_type": "display_data"
    }
   ],
   "source": [
    "linear_regression_gd = linear_regression_gradient_descent(input_features, target_features, weights, n_iterations, learning_rate)\n",
    "linear_regression_gd.train()"
   ]
  },
  {
   "cell_type": "code",
   "execution_count": 183,
   "metadata": {},
   "outputs": [],
   "source": [
    "def predict(x):\n",
    "    return 0.004517 + (0.999812*x)"
   ]
  },
  {
   "cell_type": "code",
   "execution_count": 185,
   "metadata": {},
   "outputs": [
    {
     "data": {
      "text/plain": [
       "<matplotlib.collections.PathCollection at 0x1e56a716570>"
      ]
     },
     "execution_count": 185,
     "metadata": {},
     "output_type": "execute_result"
    },
    {
     "data": {
      "image/png": "[encoded data removed]",
      "text/plain": [
       "<Figure size 640x480 with 1 Axes>"
      ]
     },
     "metadata": {},
     "output_type": "display_data"
    }
   ],
   "source": [
    "y_predicted = predict(test_dataset['x'])\n",
    "plt.scatter(test_dataset['x'], y_predicted, color = 'black') # Plot the predicted dataset datapoints\n",
    "plt.plot(test_dataset['x'], y_predicted) # Plot the line that was fitted\n",
    "plt.scatter(test_dataset['x'], test_dataset['y'], color = 'red') # Plot the predicted dataset datapoints"
   ]
  },
  {
   "cell_type": "code",
   "execution_count": 187,
   "metadata": {},
   "outputs": [
    {
     "data": {
      "text/plain": [
       "0.988828816665254"
      ]
     },
     "execution_count": 187,
     "metadata": {},
     "output_type": "execute_result"
    }
   ],
   "source": [
    "from sklearn.metrics import accuracy_score, mean_squared_error, r2_score\n",
    "r2_score(test_dataset['y'], y_predicted)"
   ]
  },
  {
   "cell_type": "code",
   "execution_count": null,
   "metadata": {},
   "outputs": [],
   "source": []
  }
 ],
 "metadata": {
  "kaggle": {
   "accelerator": "none",
   "dataSources": [
    {
     "datasetId": 1256,
     "sourceId": 2242,
     "sourceType": "datasetVersion"
    }
   ],
   "dockerImageVersionId": 30761,
   "isGpuEnabled": false,
   "isInternetEnabled": false,
   "language": "python",
   "sourceType": "notebook"
  },
  "kernelspec": {
   "display_name": "Python 3 (ipykernel)",
   "language": "python",
   "name": "python3"
  },
  "language_info": {
   "codemirror_mode": {
    "name": "ipython",
    "version": 3
   },
   "file_extension": ".py",
   "mimetype": "text/x-python",
   "name": "python",
   "nbconvert_exporter": "python",
   "pygments_lexer": "ipython3",
   "version": "3.12.4"
  }
 },
 "nbformat": 4,
 "nbformat_minor": 4
}
